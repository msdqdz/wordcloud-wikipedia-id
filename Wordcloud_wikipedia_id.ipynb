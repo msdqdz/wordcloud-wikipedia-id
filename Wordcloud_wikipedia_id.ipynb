{
  "nbformat": 4,
  "nbformat_minor": 0,
  "metadata": {
    "colab": {
      "name": "Wordcloud_wikipedia_id.ipynb",
      "provenance": [],
      "collapsed_sections": [],
      "authorship_tag": "ABX9TyMHnfth+xPT92alhNMWHxTS",
      "include_colab_link": true
    },
    "kernelspec": {
      "name": "python3",
      "display_name": "Python 3"
    },
    "language_info": {
      "name": "python"
    }
  },
  "cells": [
    {
      "cell_type": "markdown",
      "metadata": {
        "id": "view-in-github",
        "colab_type": "text"
      },
      "source": [
        "<a href=\"https://colab.research.google.com/github/msdqdz/wordcloud-wikipedia-id/blob/main/Wordcloud_wikipedia_id.ipynb\" target=\"_parent\"><img src=\"https://colab.research.google.com/assets/colab-badge.svg\" alt=\"Open In Colab\"/></a>"
      ]
    },
    {
      "cell_type": "code",
      "metadata": {
        "colab": {
          "base_uri": "https://localhost:8080/"
        },
        "id": "zDgaGuv62xm5",
        "outputId": "fa366fcc-aa39-4079-a502-af1f57cb1a88"
      },
      "source": [
        "!pip install wikipedia\n",
        "!pip install regex\n",
        "!pip install wordcloud"
      ],
      "execution_count": 11,
      "outputs": [
        {
          "output_type": "stream",
          "text": [
            "Requirement already satisfied: wikipedia in /usr/local/lib/python3.7/dist-packages (1.4.0)\n",
            "Requirement already satisfied: beautifulsoup4 in /usr/local/lib/python3.7/dist-packages (from wikipedia) (4.6.3)\n",
            "Requirement already satisfied: requests<3.0.0,>=2.0.0 in /usr/local/lib/python3.7/dist-packages (from wikipedia) (2.23.0)\n",
            "Requirement already satisfied: certifi>=2017.4.17 in /usr/local/lib/python3.7/dist-packages (from requests<3.0.0,>=2.0.0->wikipedia) (2020.12.5)\n",
            "Requirement already satisfied: urllib3!=1.25.0,!=1.25.1,<1.26,>=1.21.1 in /usr/local/lib/python3.7/dist-packages (from requests<3.0.0,>=2.0.0->wikipedia) (1.24.3)\n",
            "Requirement already satisfied: chardet<4,>=3.0.2 in /usr/local/lib/python3.7/dist-packages (from requests<3.0.0,>=2.0.0->wikipedia) (3.0.4)\n",
            "Requirement already satisfied: idna<3,>=2.5 in /usr/local/lib/python3.7/dist-packages (from requests<3.0.0,>=2.0.0->wikipedia) (2.10)\n",
            "Requirement already satisfied: regex in /usr/local/lib/python3.7/dist-packages (2019.12.20)\n",
            "Requirement already satisfied: wordcloud in /usr/local/lib/python3.7/dist-packages (1.5.0)\n",
            "Requirement already satisfied: numpy>=1.6.1 in /usr/local/lib/python3.7/dist-packages (from wordcloud) (1.19.5)\n",
            "Requirement already satisfied: pillow in /usr/local/lib/python3.7/dist-packages (from wordcloud) (7.1.2)\n"
          ],
          "name": "stdout"
        }
      ]
    },
    {
      "cell_type": "code",
      "metadata": {
        "id": "IZJx4Fzr3Wj3"
      },
      "source": [
        "import wikipedia\n",
        "import regex\n",
        "from wordcloud import WordCloud, STOPWORDS\n",
        "import matplotlib.pyplot as plt\n",
        "%matplotlib inline\n"
      ],
      "execution_count": 21,
      "outputs": []
    },
    {
      "cell_type": "code",
      "metadata": {
        "id": "Dc_P-ZP33ZZ5"
      },
      "source": [
        "wiki = wikipedia.set_lang('id')\n",
        "wiki = wikipedia.page('meninggal')\n",
        "\n",
        "text= wiki.content\n",
        "\n",
        "text = regex.sub(r'==.*?==+', '', text)\n",
        "text = text.replace('\\n', '')\n",
        "\n",
        "def plot_cloud(wordcloud):\n",
        "    plt.figure(figsize=(40,30))\n",
        "    plt.imshow(wordcloud)\n",
        "    plt.axis(\"off\")\n"
      ],
      "execution_count": 19,
      "outputs": []
    },
    {
      "cell_type": "code",
      "metadata": {
        "id": "ALQYVZE4FXIX"
      },
      "source": [
        "stop_words = [\"pada\",\"ia\",\"akan\",\"tidak\",\"iya\",\"bahwa\",\"dan\",\"yang\",\"di\",\"dengan\",\"juga\",\"sebagaimana\",\"oleh\",\"menjadi\",\"namun\",\"tapi\",\"dari\"] + list(STOPWORDS)\n",
        "wordcloud = WordCloud(width = 1366, height = 780, random_state=1, background_color='black', colormap='Pastel1', collocations=False, stopwords = stop_words).generate(text)\n",
        "# Plot\n",
        "plot_cloud(wordcloud)"
      ],
      "execution_count": null,
      "outputs": []
    }
  ]
}